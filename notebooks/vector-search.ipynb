{
 "cells": [
  {
   "cell_type": "code",
   "id": "initial_id",
   "metadata": {
    "collapsed": true
   },
   "source": [
    "from langchain_community.document_loaders import TextLoader\n",
    "from langchain_text_splitters import CharacterTextSplitter\n",
    "from langchain_openai import OpenAIEmbeddings\n",
    "from langchain_chroma import Chroma"
   ],
   "outputs": [],
   "execution_count": null
  },
  {
   "metadata": {},
   "cell_type": "code",
   "source": [
    "from dotenv import load_dotenv\n",
    "\n",
    "load_dotenv()"
   ],
   "id": "e8eee4290ed70d85",
   "outputs": [],
   "execution_count": null
  },
  {
   "metadata": {},
   "cell_type": "code",
   "source": [
    "import pandas as pd\n",
    "\n",
    "books = pd.read_csv(\"books_cleaned.csv\")"
   ],
   "id": "1ea01ab2fb0e474b",
   "outputs": [],
   "execution_count": null
  },
  {
   "metadata": {},
   "cell_type": "code",
   "source": "#books[\"tagged_description\"]",
   "id": "c581b9f47c58199f",
   "outputs": [],
   "execution_count": null
  },
  {
   "metadata": {},
   "cell_type": "code",
   "source": "books[\"tagged_description\"].to_csv(\"tagged_description.txt\", sep = \"\\n\", index = False, header = False)",
   "id": "4525b18db69b7282",
   "outputs": [],
   "execution_count": null
  },
  {
   "metadata": {},
   "cell_type": "code",
   "source": [
    "raw_documents = TextLoader(\"tagged_description.txt\").load()\n",
    "text_splitter = CharacterTextSplitter(chunk_size=1, chunk_overlap=0,separator=\"\\n\")\n",
    "documents = text_splitter.split_documents(raw_documents)"
   ],
   "id": "bbe7c386cdb64aa8",
   "outputs": [],
   "execution_count": null
  },
  {
   "metadata": {},
   "cell_type": "code",
   "source": "#documents[0]",
   "id": "c4c730449da0b8f2",
   "outputs": [],
   "execution_count": null
  },
  {
   "metadata": {},
   "cell_type": "code",
   "source": [
    "db_books = Chroma.from_documents(documents,\n",
    "       embedding=OpenAIEmbeddings())"
   ],
   "id": "c3861c51e1387095",
   "outputs": [],
   "execution_count": null
  },
  {
   "metadata": {},
   "cell_type": "code",
   "source": [
    "query = \"A book to teach about space\"\n",
    "docs = db_books.similarity_search(query, k = 10)"
   ],
   "id": "34df97d09283a7a0",
   "outputs": [],
   "execution_count": null
  },
  {
   "metadata": {},
   "cell_type": "code",
   "source": "docs",
   "id": "ea33a748f45cf8b4",
   "outputs": [],
   "execution_count": null
  },
  {
   "metadata": {},
   "cell_type": "code",
   "source": "books[books[\"isbn13\"] == int(docs[0].page_content.split()[0].strip())]",
   "id": "3c87b0ce5120f523",
   "outputs": [],
   "execution_count": null
  },
  {
   "metadata": {},
   "cell_type": "code",
   "source": [
    "def retrieve_recommendations(query: str, top_k: int = 10) -> pd.DataFrame:\n",
    "    recs = db_books.similarity_search(query, k = 50)\n",
    "\n",
    "    books_list = []\n",
    "\n",
    "    for i in range(0, len(recs)):\n",
    "        books_list += [int(recs[i].page_content.strip('\"').split()[0])]\n",
    "\n",
    "    return books[books[\"isbn13\"].isin(books_list)].head(top_k)"
   ],
   "id": "d956c241f64856a3",
   "outputs": [],
   "execution_count": null
  },
  {
   "metadata": {},
   "cell_type": "code",
   "source": "retrieve_recommendations(\"A book to teach about space\")",
   "id": "ec0077f208ce4cba",
   "outputs": [],
   "execution_count": null
  },
  {
   "metadata": {},
   "cell_type": "code",
   "source": "books[\"categories\"].value_counts().reset_index().query(\"count > 50\")",
   "id": "6669b36a617861bb",
   "outputs": [],
   "execution_count": null
  },
  {
   "metadata": {},
   "cell_type": "code",
   "source": [
    "category_mapping = {'Fiction' : \"Fiction\",\n",
    "'Juvenile Fiction': \"Children's Fiction\",\n",
    "'Biography & Autobiography': \"Nonfiction\",\n",
    "'History': \"Nonfiction\",\n",
    "'Literary Criticism': \"Nonfiction\",\n",
    "'Philosophy': \"Nonfiction\",\n",
    "'Religion': \"Nonfiction\",\n",
    "'Comics & Graphic Novels': \"Fiction\",\n",
    "'Drama': \"Fiction\",\n",
    "'Juvenile Nonfiction': \"Children's Nonfiction\",\n",
    "'Science': \"Nonfiction\",\n",
    "'Poetry': \"Fiction\"}\n",
    "\n",
    "books[\"simple_category\"] = books[\"categories\"].map(category_mapping)"
   ],
   "id": "fa139c2e82a621b7",
   "outputs": [],
   "execution_count": null
  },
  {
   "metadata": {},
   "cell_type": "code",
   "source": [
    "books[~(books[\"simple_category\"].isna())]\n",
    "\n",
    "#transformers lets us work on llm models easily and those that are on hugging face"
   ],
   "id": "eb7b9ebd1b1b8423",
   "outputs": [],
   "execution_count": null
  },
  {
   "metadata": {},
   "cell_type": "code",
   "source": [
    "from transformers import pipeline\n",
    "import torch\n",
    "\n",
    "fiction_categories = [\"Fiction\", \"Nonfiction\"]\n",
    "\n",
    "pipe = pipeline(\"zero-shot-classification\",\n",
    "                      model=\"facebook/bart-large-mnli\", device=\"mps\")\n"
   ],
   "id": "ec99872d196bc929",
   "outputs": [],
   "execution_count": null
  },
  {
   "metadata": {},
   "cell_type": "code",
   "source": "sequence = books.loc[books[\"simple_category\"] == \"Fiction\", \"description\"].reset_index(drop=True)[0]",
   "id": "b80c48ad2a20d9b9",
   "outputs": [],
   "execution_count": null
  },
  {
   "metadata": {},
   "cell_type": "code",
   "source": "pipe(sequence, fiction_categories)",
   "id": "a081f9cbf5abab4b",
   "outputs": [],
   "execution_count": null
  },
  {
   "metadata": {},
   "cell_type": "code",
   "source": [
    "import numpy as np\n",
    "\n",
    "max_index = np.argmax(pipe(sequence, fiction_categories)[\"scores\"])\n",
    "max_label = pipe(sequence, fiction_categories)[\"labels\"][max_index]\n",
    "max_label"
   ],
   "id": "d70691f1d6700c03",
   "outputs": [],
   "execution_count": null
  },
  {
   "metadata": {},
   "cell_type": "code",
   "source": [
    "def generate_predictions(sequence, fiction_categories):\n",
    "    predictions = pipe(sequence, fiction_categories)\n",
    "    max_index = np.argmax(predictions[\"scores\"])\n",
    "    max_label = predictions[\"labels\"][max_index]\n",
    "    return max_label"
   ],
   "id": "38d800e8ed2e7d23",
   "outputs": [],
   "execution_count": null
  },
  {
   "metadata": {},
   "cell_type": "code",
   "source": [
    "from tqdm import tqdm\n",
    "\n",
    "actual_cats = []\n",
    "predicated_cats = []\n",
    "\n",
    "for i in tqdm(range(0,300)):\n",
    "    sequence = books.loc[books[\"simple_category\"] == \"Fiction\", \"description\"].reset_index(drop=True)[i]\n",
    "    predicated_cats += [generate_predictions(sequence, fiction_categories)]\n",
    "    actual_cats += [\"Fiction\"]"
   ],
   "id": "427c043ff88fe680",
   "outputs": [],
   "execution_count": null
  },
  {
   "metadata": {},
   "cell_type": "code",
   "source": [
    "for i in tqdm(range(0,300)):\n",
    "    sequence = books.loc[books[\"simple_category\"] == \"Nonfiction\", \"description\"].reset_index(drop=True)[i]\n",
    "    predicated_cats += [generate_predictions(sequence, fiction_categories)]\n",
    "    actual_cats += [\"Nonfiction\"]"
   ],
   "id": "97fae86ee388fada",
   "outputs": [],
   "execution_count": null
  },
  {
   "metadata": {},
   "cell_type": "code",
   "source": "predictions_df = pd.DataFrame({\"actual_categories\": actual_cats, \"predicted_categories\": predicated_cats})",
   "id": "395a2cb22d1ea281",
   "outputs": [],
   "execution_count": null
  },
  {
   "metadata": {},
   "cell_type": "code",
   "source": "predictions_df",
   "id": "c0674063176c641f",
   "outputs": [],
   "execution_count": null
  },
  {
   "metadata": {},
   "cell_type": "code",
   "source": [
    "predictions_df[\"correct_prediction\"] = (np.where(predictions_df[\"actual_categories\"] == predictions_df[\"predicted_categories\"], 1, 0)\n",
    ")"
   ],
   "id": "24ab3d8cdf783094",
   "outputs": [],
   "execution_count": null
  },
  {
   "metadata": {},
   "cell_type": "code",
   "source": "predictions_df[\"correct_prediction\"].sum() / len(predictions_df)",
   "id": "c552a64258893432",
   "outputs": [],
   "execution_count": null
  },
  {
   "metadata": {},
   "cell_type": "code",
   "source": [
    " isbns = []\n",
    " predicted_cats = []\n",
    "\n",
    " missing_cats = books.loc[books[\"simple_category\"].isna(), [\"isbn13\", \"description\"]].reset_index(drop=True)"
   ],
   "id": "9234c69446f3272c",
   "outputs": [],
   "execution_count": null
  },
  {
   "metadata": {},
   "cell_type": "code",
   "source": [
    "for i in tqdm(range(0,len(missing_cats))):\n",
    "    sequence = missing_cats[\"description\"][i]\n",
    "    predicted_cats += [generate_predictions(sequence, fiction_categories)]\n",
    "    isbns += [missing_cats[\"isbn13\"][i]]"
   ],
   "id": "faba6d2303353916",
   "outputs": [],
   "execution_count": null
  },
  {
   "metadata": {},
   "cell_type": "code",
   "source": "missing_predictions_df = pd.DataFrame({\"isbn13\": isbns, \"predicted_categories\": predicted_cats})",
   "id": "22d11ba33eca395a",
   "outputs": [],
   "execution_count": null
  },
  {
   "metadata": {},
   "cell_type": "code",
   "source": "missing_predictions_df",
   "id": "ee0c69ccb126415c",
   "outputs": [],
   "execution_count": null
  },
  {
   "metadata": {},
   "cell_type": "code",
   "source": [
    "books = pd.merge(books, missing_predictions_df, on=\"isbn13\", how=\"left\")\n",
    "books[\"simple_category\"] = np.where(books[\"simple_category\"].isna(), books[\"predicted_categories\"], books[\"simple_category\"])\n",
    "books = books.drop(columns= [\"predicted_categories\"])"
   ],
   "id": "143d42cf83c0517c",
   "outputs": [],
   "execution_count": null
  },
  {
   "metadata": {},
   "cell_type": "code",
   "source": "books.to_csv(\"books_with_categories.csv\", index=False)",
   "id": "cfa18b9c258152a",
   "outputs": [],
   "execution_count": null
  },
  {
   "metadata": {},
   "cell_type": "code",
   "source": [
    "from transformers import pipeline\n",
    "classifier=pipeline(\"text-classification\", model=\"j-hartmann/emotion-english-distilroberta-base\", top_k = None, device=\"mps\")\n",
    "classifier(\"I love this!\")"
   ],
   "id": "c649cdddb90c1d9d",
   "outputs": [],
   "execution_count": null
  },
  {
   "metadata": {},
   "cell_type": "code",
   "source": [
    "import numpy as np\n",
    "\n",
    "emotion_labels = [\"anger\", \"disgust\", \"fear\", \"joy\", \"sadness\", \"surprise\", \"nuetral\"]\n",
    "isbn=[]\n",
    "emotion_scores = {label: [] for label in emotion_labels}\n",
    "\n",
    "def calc_max_emotion_score(predictions):\n",
    "    per_emotion_scores = {label: [] for label in emotion_labels}\n",
    "    for prediction in predictions:\n",
    "        sorted_prediction = sorted(prediction, key=lambda x:x[\"label\"])\n",
    "        for index, label in enumerate(emotion_labels):\n",
    "            per_emotion_scores[label].append(sorted_prediction[index][\"score\"])\n",
    "    return {label: np.max(scores) for label, scores in per_emotion_scores.items()}"
   ],
   "id": "b21bf9f11ba47fc1",
   "outputs": [],
   "execution_count": null
  },
  {
   "metadata": {},
   "cell_type": "code",
   "source": [
    "from tqdm import tqdm\n",
    "\n",
    "\n",
    "emotion_labels = [\"anger\", \"disgust\", \"fear\", \"joy\", \"sadness\", \"surprise\", \"neutral\"]\n",
    "isbn=[]\n",
    "emotion_scores = {label: [] for label in emotion_labels}\n",
    "\n",
    "\n",
    "for i in tqdm(range(len(books))):\n",
    "    isbn.append(books[\"isbn13\"][i])\n",
    "    sentences = books[\"description\"][i].split(\".\")\n",
    "    predictions = classifier(sentences)\n",
    "    max_scores = calc_max_emotion_score(predictions)\n",
    "    for label in emotion_labels:\n",
    "        emotion_scores[label].append(max_scores[label])"
   ],
   "id": "11ce48cef26c4998",
   "outputs": [],
   "execution_count": null
  },
  {
   "metadata": {},
   "cell_type": "code",
   "source": [
    "emotions_df = pd.DataFrame(emotion_scores)\n",
    "emotions_df[\"isbn13\"] = isbn"
   ],
   "id": "560b3642e5f734e",
   "outputs": [],
   "execution_count": null
  },
  {
   "metadata": {},
   "cell_type": "code",
   "source": "emotions_df",
   "id": "43d3543f8bdaa42f",
   "outputs": [],
   "execution_count": null
  },
  {
   "metadata": {},
   "cell_type": "code",
   "source": "books = pd.merge(books, emotions_df, on=\"isbn13\")",
   "id": "262aef5618fefaa2",
   "outputs": [],
   "execution_count": null
  },
  {
   "metadata": {},
   "cell_type": "code",
   "source": "books.to_csv(\"books_with_emotions.csv\", index=False)",
   "id": "46d2c77d17499c7e",
   "outputs": [],
   "execution_count": null
  }
 ],
 "metadata": {
  "kernelspec": {
   "display_name": "Python 3",
   "language": "python",
   "name": "python3"
  },
  "language_info": {
   "codemirror_mode": {
    "name": "ipython",
    "version": 2
   },
   "file_extension": ".py",
   "mimetype": "text/x-python",
   "name": "python",
   "nbconvert_exporter": "python",
   "pygments_lexer": "ipython2",
   "version": "2.7.6"
  }
 },
 "nbformat": 4,
 "nbformat_minor": 5
}
