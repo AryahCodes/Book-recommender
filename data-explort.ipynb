{
 "cells": [
  {
   "cell_type": "code",
   "id": "initial_id",
   "metadata": {
    "collapsed": true
   },
   "source": [
    "#this is our dataset\n",
    "import kagglehub\n",
    "\n",
    "# Download latest version\n",
    "path = kagglehub.dataset_download(\"dylanjcastillo/7k-books-with-metadata\")\n",
    "\n",
    "print(\"Path to dataset files:\", path)"
   ],
   "outputs": [],
   "execution_count": null
  },
  {
   "metadata": {},
   "cell_type": "code",
   "source": [
    "#use pandas since we are working with data\n",
    "import pandas as pd"
   ],
   "id": "cf0442b7575685e2",
   "outputs": [],
   "execution_count": null
  },
  {
   "metadata": {},
   "cell_type": "code",
   "source": [
    "#read the path into pd so we can use it\n",
    "books = pd.read_csv(f\"{path}/books.csv\")"
   ],
   "id": "10e0dc2ddebff57a",
   "outputs": [],
   "execution_count": null
  },
  {
   "metadata": {},
   "cell_type": "code",
   "source": [
    "import seaborn as sns\n",
    "import matplotlib.pyplot as plt"
   ],
   "id": "503281c057388899",
   "outputs": [],
   "execution_count": null
  },
  {
   "metadata": {},
   "cell_type": "code",
   "source": [
    "#shows us the missing information to see if there is a pattern\n",
    "ax = plt.axes()\n",
    "sns.heatmap(books.isna().transpose(), cbar=False, ax=ax)\n",
    "\n",
    "plt.xlabel(\"Columns\")\n",
    "plt.ylabel(\"Missing values\")"
   ],
   "id": "582e7d941ace39e6",
   "outputs": [],
   "execution_count": null
  },
  {
   "metadata": {},
   "cell_type": "code",
   "source": [
    "import numpy as np\n",
    "\n",
    "books[\"missing_description\"] = np.where(books[\"description\"].isna(), 1, 0)\n",
    "books[\"age_of_book\"] = 2024 - books[\"published_year\"]"
   ],
   "id": "b1b1210351bd6dee",
   "outputs": [],
   "execution_count": null
  },
  {
   "metadata": {},
   "cell_type": "code",
   "source": [
    "columns_of_interest = [\"num_pages\", \"age_of_book\", \"missing_description\", \"average_rating\"]\n",
    "\n",
    "correlation_matrix = books[columns_of_interest].corr(method=\"spearman\")\n",
    "\n",
    "sns.set_theme(style=\"white\")\n",
    "plt.figure(figsize=(8, 6))\n",
    "heatmap = sns.heatmap(correlation_matrix, annot=True, fmt = \".2f\", cmap=\"coolwarm\", cbar_kws={\"label\": \"Spearman correlation\"})\n",
    "heatmap.set_title(\"Correlation heatmap\")\n",
    "plt.show()"
   ],
   "id": "2d89de97249d6e90",
   "outputs": [],
   "execution_count": null
  },
  {
   "metadata": {},
   "cell_type": "code",
   "source": [
    "#take all the books that have these attributes\n",
    "book_missing = books[~(books[\"description\"].isna()) &\n",
    "       ~(books[\"num_pages\"].isna()) &\n",
    "    ~(books[\"average_rating\"].isna()) &\n",
    "    ~(books[\"published_year\"].isna())\n",
    "]"
   ],
   "id": "da4876e5efc6ca29",
   "outputs": [],
   "execution_count": null
  },
  {
   "metadata": {},
   "cell_type": "code",
   "source": "book_missing",
   "id": "10e2741b1d51faf3",
   "outputs": [],
   "execution_count": null
  },
  {
   "metadata": {},
   "cell_type": "code",
   "source": [
    "#The categories that are the most popular\n",
    "book_missing[\"categories\"].value_counts().reset_index().sort_values(\"count\", ascending=False)"
   ],
   "id": "52a95858436bb8db",
   "outputs": [],
   "execution_count": null
  },
  {
   "metadata": {},
   "cell_type": "code",
   "source": [
    "#get rid of descriptions that are too small\n",
    "\n",
    "#split the string and then get the length so u get the length of description\n",
    "book_missing[\"words_in_description\"] = book_missing[\"description\"].str.split().str.len()"
   ],
   "id": "f0267dd728dc1bc9",
   "outputs": [],
   "execution_count": null
  },
  {
   "metadata": {},
   "cell_type": "code",
   "source": [
    "#shows all the descriptions between 25-45 words\n",
    "book_missing.loc[book_missing[\"words_in_description\"].between(25,45),\"description\"]"
   ],
   "id": "f6b9b61b52619dc3",
   "outputs": [],
   "execution_count": null
  },
  {
   "metadata": {},
   "cell_type": "code",
   "source": [
    "#new set of books that all have more than 25 words.\n",
    "book_missing_20_words = book_missing[book_missing[\"words_in_description\"] >= 25]"
   ],
   "id": "26f2add35e776f52",
   "outputs": [],
   "execution_count": null
  },
  {
   "metadata": {},
   "cell_type": "code",
   "source": [
    "#new field for title and subtitle and combine the two if they exist\n",
    "book_missing_20_words[\"title_and_subtitle\"] = (\n",
    "    np.where(book_missing_20_words[\"subtitle\"].isna(), book_missing_20_words[\"title\"], book_missing_20_words[[\"title\",\"subtitle\"]].astype(str).agg(\": \".join, axis=1))\n",
    ")"
   ],
   "id": "df3e1823f19b5fea",
   "outputs": [],
   "execution_count": null
  },
  {
   "metadata": {},
   "cell_type": "code",
   "source": "book_missing_20_words[\"tagged_description\"] = book_missing_20_words[[\"isbn13\", \"description\"]].astype(str).agg(\" \".join, axis=1)",
   "id": "f19d14a4cb8fe767",
   "outputs": [],
   "execution_count": null
  },
  {
   "metadata": {},
   "cell_type": "code",
   "source": "book_missing_20_words",
   "id": "ca9cf9c08c292222",
   "outputs": [],
   "execution_count": null
  },
  {
   "metadata": {},
   "cell_type": "code",
   "source": [
    "#save the books we are going to use and drop the categories we don't need.\n",
    "(\n",
    "    book_missing_20_words.drop([\"subtitle\", \"missing_description\", \"age_of_book\", \"words_in_description\"], axis=1).to_csv(\"books_cleaned.csv\", index=False)\n",
    ")"
   ],
   "id": "bc7a3d3609e252bb",
   "outputs": [],
   "execution_count": null
  }
 ],
 "metadata": {
  "kernelspec": {
   "display_name": "Python 3",
   "language": "python",
   "name": "python3"
  },
  "language_info": {
   "codemirror_mode": {
    "name": "ipython",
    "version": 2
   },
   "file_extension": ".py",
   "mimetype": "text/x-python",
   "name": "python",
   "nbconvert_exporter": "python",
   "pygments_lexer": "ipython2",
   "version": "2.7.6"
  }
 },
 "nbformat": 4,
 "nbformat_minor": 5
}
